{
 "cells": [
  {
   "cell_type": "code",
   "execution_count": 5,
   "id": "41857495-c359-4768-9b38-76ffe0512fd5",
   "metadata": {
    "tags": []
   },
   "outputs": [
    {
     "name": "stdout",
     "output_type": "stream",
     "text": [
      "\u001b[33mWARNING: Running pip as the 'root' user can result in broken permissions and conflicting behaviour with the system package manager. It is recommended to use a virtual environment instead: https://pip.pypa.io/warnings/venv\u001b[0m\u001b[33m\n",
      "\u001b[0mNote: you may need to restart the kernel to use updated packages.\n",
      "\u001b[33mWARNING: Running pip as the 'root' user can result in broken permissions and conflicting behaviour with the system package manager. It is recommended to use a virtual environment instead: https://pip.pypa.io/warnings/venv\u001b[0m\u001b[33m\n",
      "\u001b[0mNote: you may need to restart the kernel to use updated packages.\n",
      "\u001b[33mWARNING: Running pip as the 'root' user can result in broken permissions and conflicting behaviour with the system package manager. It is recommended to use a virtual environment instead: https://pip.pypa.io/warnings/venv\u001b[0m\u001b[33m\n",
      "\u001b[0mNote: you may need to restart the kernel to use updated packages.\n",
      "\u001b[33mWARNING: Running pip as the 'root' user can result in broken permissions and conflicting behaviour with the system package manager. It is recommended to use a virtual environment instead: https://pip.pypa.io/warnings/venv\u001b[0m\u001b[33m\n",
      "\u001b[0mNote: you may need to restart the kernel to use updated packages.\n"
     ]
    }
   ],
   "source": [
    "%pip install -qU aiobotocore \n",
    "%pip install -q jsonlines\n",
    "%pip install -q requests_aws4auth\n",
    "%pip install -q elasticsearch==7.13.4"
   ]
  },
  {
   "cell_type": "code",
   "execution_count": 6,
   "id": "33322be6-f933-41b3-9066-c96061976e9a",
   "metadata": {
    "tags": []
   },
   "outputs": [
    {
     "name": "stdout",
     "output_type": "stream",
     "text": [
      "Requirement already satisfied: pip in /opt/conda/lib/python3.10/site-packages (23.3.1)\n",
      "\u001b[33mWARNING: Running pip as the 'root' user can result in broken permissions and conflicting behaviour with the system package manager. It is recommended to use a virtual environment instead: https://pip.pypa.io/warnings/venv\u001b[0m\u001b[33m\n",
      "\u001b[0mNote: you may need to restart the kernel to use updated packages.\n"
     ]
    }
   ],
   "source": [
    "pip install --upgrade pip"
   ]
  },
  {
   "cell_type": "code",
   "execution_count": 7,
   "id": "ce9ee4b4-5dac-427d-9ba0-851c327c57ad",
   "metadata": {
    "tags": []
   },
   "outputs": [
    {
     "name": "stdout",
     "output_type": "stream",
     "text": [
      "download: s3://amazon-berkeley-objects/README.md to data/README.md\n"
     ]
    }
   ],
   "source": [
    "!mkdir -p data\n",
    "!aws s3 cp --no-sign-request s3://amazon-berkeley-objects/README.md data/README.md "
   ]
  },
  {
   "cell_type": "code",
   "execution_count": 2,
   "id": "9cab0e75-d8cb-445d-b67f-c3617ce6253c",
   "metadata": {
    "tags": []
   },
   "outputs": [
    {
     "name": "stdout",
     "output_type": "stream",
     "text": [
      "sagemaker.config INFO - Not applying SDK defaults from location: /etc/xdg/sagemaker/config.yaml\n",
      "sagemaker.config INFO - Not applying SDK defaults from location: /root/.config/sagemaker/config.yaml\n"
     ]
    }
   ],
   "source": [
    "import pandas as pd\n",
    "import matplotlib.pyplot as plt\n",
    "from PIL.Image import Image as PilImage\n",
    "import textwrap, os\n",
    "import sagemaker\n",
    "from sagemaker.serverless.serverless_inference_config import ServerlessInferenceConfig\n",
    "from sagemaker.serializers import JSONSerializer, IdentitySerializer\n",
    "from sagemaker.deserializers import JSONDeserializer\n",
    "\n",
    "%matplotlib inline"
   ]
  },
  {
   "cell_type": "code",
   "execution_count": 4,
   "id": "2e92f7ce-1976-4c00-9c9b-073a694d58c8",
   "metadata": {
    "tags": []
   },
   "outputs": [
    {
     "name": "stdout",
     "output_type": "stream",
     "text": [
      "sagemaker.config INFO - Not applying SDK defaults from location: /etc/xdg/sagemaker/config.yaml\n",
      "sagemaker.config INFO - Not applying SDK defaults from location: /root/.config/sagemaker/config.yaml\n"
     ]
    }
   ],
   "source": [
    "s3_bucket_name = sagemaker.session.Session().default_bucket()"
   ]
  },
  {
   "cell_type": "code",
   "execution_count": 5,
   "id": "cfd16e2a-30c2-44ee-b80c-c76dffc4e0b2",
   "metadata": {
    "tags": []
   },
   "outputs": [
    {
     "name": "stdout",
     "output_type": "stream",
     "text": [
      "sagemaker-us-east-2-816546967292\n"
     ]
    }
   ],
   "source": [
    "print(s3_bucket_name)"
   ]
  },
  {
   "cell_type": "code",
   "execution_count": 6,
   "id": "730dd0de-48a4-488f-abd4-02d2c9822e29",
   "metadata": {
    "tags": []
   },
   "outputs": [
    {
     "name": "stdout",
     "output_type": "stream",
     "text": [
      "#products with US English title: 1655\n"
     ]
    },
    {
     "data": {
      "text/html": [
       "<div>\n",
       "<style scoped>\n",
       "    .dataframe tbody tr th:only-of-type {\n",
       "        vertical-align: middle;\n",
       "    }\n",
       "\n",
       "    .dataframe tbody tr th {\n",
       "        vertical-align: top;\n",
       "    }\n",
       "\n",
       "    .dataframe thead th {\n",
       "        text-align: right;\n",
       "    }\n",
       "</style>\n",
       "<table border=\"1\" class=\"dataframe\">\n",
       "  <thead>\n",
       "    <tr style=\"text-align: right;\">\n",
       "      <th></th>\n",
       "      <th>item_id</th>\n",
       "      <th>item_name_in_en_us</th>\n",
       "      <th>main_image_id</th>\n",
       "    </tr>\n",
       "  </thead>\n",
       "  <tbody>\n",
       "    <tr>\n",
       "      <th>7</th>\n",
       "      <td>B0896LJNLH</td>\n",
       "      <td>AmazonBasics Serene 16-Piece Old Fashioned and...</td>\n",
       "      <td>61izEZdhlaL</td>\n",
       "    </tr>\n",
       "    <tr>\n",
       "      <th>18</th>\n",
       "      <td>B07HCR1LSQ</td>\n",
       "      <td>[Find] Amazon Collection Platinum Plated Sterl...</td>\n",
       "      <td>61kDp2x8tPL</td>\n",
       "    </tr>\n",
       "    <tr>\n",
       "      <th>22</th>\n",
       "      <td>B075DQBBJZ</td>\n",
       "      <td>Arizona Desert Sand Horizon Photo with Wood Ha...</td>\n",
       "      <td>91IjyKZ76qL</td>\n",
       "    </tr>\n",
       "    <tr>\n",
       "      <th>38</th>\n",
       "      <td>B07S74D9T7</td>\n",
       "      <td>AmazonBasics Adjustable Speaker Stand - 3.8 to...</td>\n",
       "      <td>71x4c-BafpL</td>\n",
       "    </tr>\n",
       "    <tr>\n",
       "      <th>39</th>\n",
       "      <td>B01N27SMXC</td>\n",
       "      <td>Amazon Brand - The Fix Women's Foley Tassel Sl...</td>\n",
       "      <td>71-eMu0gN+L</td>\n",
       "    </tr>\n",
       "  </tbody>\n",
       "</table>\n",
       "</div>"
      ],
      "text/plain": [
       "       item_id                                 item_name_in_en_us  \\\n",
       "7   B0896LJNLH  AmazonBasics Serene 16-Piece Old Fashioned and...   \n",
       "18  B07HCR1LSQ  [Find] Amazon Collection Platinum Plated Sterl...   \n",
       "22  B075DQBBJZ  Arizona Desert Sand Horizon Photo with Wood Ha...   \n",
       "38  B07S74D9T7  AmazonBasics Adjustable Speaker Stand - 3.8 to...   \n",
       "39  B01N27SMXC  Amazon Brand - The Fix Women's Foley Tassel Sl...   \n",
       "\n",
       "   main_image_id  \n",
       "7    61izEZdhlaL  \n",
       "18   61kDp2x8tPL  \n",
       "22   91IjyKZ76qL  \n",
       "38   71x4c-BafpL  \n",
       "39   71-eMu0gN+L  "
      ]
     },
     "execution_count": 6,
     "metadata": {},
     "output_type": "execute_result"
    }
   ],
   "source": [
    "meta = pd.read_json(\"s3://amazon-berkeley-objects/listings/metadata/listings_0.json.gz\", lines=True)\n",
    "def func_(x):\n",
    "    us_texts = [item[\"value\"] for item in x if item[\"language_tag\"] == \"en_US\"]\n",
    "    return us_texts[0] if us_texts else None\n",
    "\n",
    "meta = meta.assign(item_name_in_en_us=meta.item_name.apply(func_))\n",
    "meta = meta[~meta.item_name_in_en_us.isna()][[\"item_id\", \"item_name_in_en_us\", \"main_image_id\"]]\n",
    "print(f\"#products with US English title: {len(meta)}\")\n",
    "meta.head()"
   ]
  },
  {
   "cell_type": "code",
   "execution_count": 7,
   "id": "6aaaa589-4b24-42fb-96d4-039f9a9dc955",
   "metadata": {
    "tags": []
   },
   "outputs": [
    {
     "data": {
      "text/html": [
       "<div>\n",
       "<style scoped>\n",
       "    .dataframe tbody tr th:only-of-type {\n",
       "        vertical-align: middle;\n",
       "    }\n",
       "\n",
       "    .dataframe tbody tr th {\n",
       "        vertical-align: top;\n",
       "    }\n",
       "\n",
       "    .dataframe thead th {\n",
       "        text-align: right;\n",
       "    }\n",
       "</style>\n",
       "<table border=\"1\" class=\"dataframe\">\n",
       "  <thead>\n",
       "    <tr style=\"text-align: right;\">\n",
       "      <th></th>\n",
       "      <th>item_id</th>\n",
       "      <th>item_name_in_en_us</th>\n",
       "      <th>main_image_id</th>\n",
       "      <th>image_id</th>\n",
       "      <th>height</th>\n",
       "      <th>width</th>\n",
       "      <th>path</th>\n",
       "    </tr>\n",
       "  </thead>\n",
       "  <tbody>\n",
       "    <tr>\n",
       "      <th>0</th>\n",
       "      <td>B0896LJNLH</td>\n",
       "      <td>AmazonBasics Serene 16-Piece Old Fashioned and...</td>\n",
       "      <td>61izEZdhlaL</td>\n",
       "      <td>61izEZdhlaL</td>\n",
       "      <td>1197</td>\n",
       "      <td>894</td>\n",
       "      <td>07/075e5d67.jpg</td>\n",
       "    </tr>\n",
       "    <tr>\n",
       "      <th>1</th>\n",
       "      <td>B07HCR1LSQ</td>\n",
       "      <td>[Find] Amazon Collection Platinum Plated Sterl...</td>\n",
       "      <td>61kDp2x8tPL</td>\n",
       "      <td>61kDp2x8tPL</td>\n",
       "      <td>1000</td>\n",
       "      <td>1000</td>\n",
       "      <td>c9/c923418f.jpg</td>\n",
       "    </tr>\n",
       "    <tr>\n",
       "      <th>2</th>\n",
       "      <td>B075DQBBJZ</td>\n",
       "      <td>Arizona Desert Sand Horizon Photo with Wood Ha...</td>\n",
       "      <td>91IjyKZ76qL</td>\n",
       "      <td>91IjyKZ76qL</td>\n",
       "      <td>2560</td>\n",
       "      <td>2560</td>\n",
       "      <td>c6/c6889ed4.jpg</td>\n",
       "    </tr>\n",
       "    <tr>\n",
       "      <th>3</th>\n",
       "      <td>B07S74D9T7</td>\n",
       "      <td>AmazonBasics Adjustable Speaker Stand - 3.8 to...</td>\n",
       "      <td>71x4c-BafpL</td>\n",
       "      <td>71x4c-BafpL</td>\n",
       "      <td>2560</td>\n",
       "      <td>2560</td>\n",
       "      <td>2b/2b90e918.jpg</td>\n",
       "    </tr>\n",
       "    <tr>\n",
       "      <th>4</th>\n",
       "      <td>B01N27SMXC</td>\n",
       "      <td>Amazon Brand - The Fix Women's Foley Tassel Sl...</td>\n",
       "      <td>71-eMu0gN+L</td>\n",
       "      <td>71-eMu0gN+L</td>\n",
       "      <td>704</td>\n",
       "      <td>1770</td>\n",
       "      <td>2c/2c0416de.jpg</td>\n",
       "    </tr>\n",
       "  </tbody>\n",
       "</table>\n",
       "</div>"
      ],
      "text/plain": [
       "      item_id                                 item_name_in_en_us  \\\n",
       "0  B0896LJNLH  AmazonBasics Serene 16-Piece Old Fashioned and...   \n",
       "1  B07HCR1LSQ  [Find] Amazon Collection Platinum Plated Sterl...   \n",
       "2  B075DQBBJZ  Arizona Desert Sand Horizon Photo with Wood Ha...   \n",
       "3  B07S74D9T7  AmazonBasics Adjustable Speaker Stand - 3.8 to...   \n",
       "4  B01N27SMXC  Amazon Brand - The Fix Women's Foley Tassel Sl...   \n",
       "\n",
       "  main_image_id     image_id  height  width             path  \n",
       "0   61izEZdhlaL  61izEZdhlaL    1197    894  07/075e5d67.jpg  \n",
       "1   61kDp2x8tPL  61kDp2x8tPL    1000   1000  c9/c923418f.jpg  \n",
       "2   91IjyKZ76qL  91IjyKZ76qL    2560   2560  c6/c6889ed4.jpg  \n",
       "3   71x4c-BafpL  71x4c-BafpL    2560   2560  2b/2b90e918.jpg  \n",
       "4   71-eMu0gN+L  71-eMu0gN+L     704   1770  2c/2c0416de.jpg  "
      ]
     },
     "execution_count": 7,
     "metadata": {},
     "output_type": "execute_result"
    }
   ],
   "source": [
    "image_meta = pd.read_csv(\"s3://amazon-berkeley-objects/images/metadata/images.csv.gz\")\n",
    "dataset = meta.merge(image_meta, left_on=\"main_image_id\", right_on=\"image_id\")\n",
    "dataset.head()\n"
   ]
  },
  {
   "cell_type": "code",
   "execution_count": 8,
   "id": "e3e7cbf6-9c2a-40da-ba6c-b77e0a84ac77",
   "metadata": {
    "tags": []
   },
   "outputs": [
    {
     "name": "stdout",
     "output_type": "stream",
     "text": [
      "sagemaker.config INFO - Not applying SDK defaults from location: /etc/xdg/sagemaker/config.yaml\n",
      "sagemaker.config INFO - Not applying SDK defaults from location: /root/.config/sagemaker/config.yaml\n",
      "AmazonBasics Serene 16-Piece Old Fashioned and Coolers Glass Drinkware Set\n"
     ]
    },
    {
     "data": {
      "image/jpeg": "[encoded data removed]",
      "image/png": "[encoded data removed]",
      "text/plain": [
       "<PIL.JpegImagePlugin.JpegImageFile image mode=RGB size=191x256>"
      ]
     },
     "execution_count": 8,
     "metadata": {},
     "output_type": "execute_result"
    }
   ],
   "source": [
    "from sagemaker.s3 import S3Downloader as s3down\n",
    "from pathlib import Path\n",
    "from PIL import Image\n",
    "\n",
    "s3_data_root = \"s3://amazon-berkeley-objects/images/small/\"\n",
    "\n",
    "def get_image_from_item_id(item_id = \"B0896LJNLH\", return_image=True):\n",
    "    \n",
    "    item_idx = dataset.query(f\"item_id == '{item_id}'\").index[0]\n",
    "    s3_path = dataset.iloc[item_idx].path\n",
    "    local_data_root = f'./data/images'\n",
    "    local_file_name = Path(s3_path).name\n",
    "    #print({s3_data_root}{s3_path})\n",
    "    s3down.download(f'{s3_data_root}{s3_path}', local_data_root)\n",
    "\n",
    "    local_image_path = f\"{local_data_root}/{local_file_name}\"\n",
    "    if return_image:\n",
    "        img = Image.open(local_image_path)\n",
    "        return img, dataset.iloc[item_idx].item_name_in_en_us\n",
    "    else:\n",
    "        return local_image_path, dataset.iloc[item_idx].item_name_in_en_us\n",
    "image, item_name = get_image_from_item_id()\n",
    "print(item_name)\n",
    "image"
   ]
  },
  {
   "cell_type": "code",
   "execution_count": 9,
   "id": "adff23e7-11f9-406a-a9c2-c6698179e131",
   "metadata": {
    "tags": []
   },
   "outputs": [
    {
     "name": "stdout",
     "output_type": "stream",
     "text": [
      "Overwriting build_model_tar.sh\n"
     ]
    }
   ],
   "source": [
    "%%writefile build_model_tar.sh\n",
    "#!/bin/bash\n",
    "BUCKET_NAME=\"$1\"\n",
    "MODEL_NAME=RN50.pt\n",
    "MODEL_NAME_URL=https://openaipublic.azureedge.net/clip/models/afeb0e10f9e5a86da6080e35cf09123aca3b358a0c3e3b6c78a7b63bc04b6762/RN50.pt\n",
    "\n",
    "BUILD_ROOT=/tmp/model_path\n",
    "S3_PATH=s3://${BUCKET_NAME}/models/clip/model.tar.gz\n",
    "\n",
    "\n",
    "rm -rf $BUILD_ROOT\n",
    "mkdir $BUILD_ROOT\n",
    "cd $BUILD_ROOT && curl -o $BUILD_ROOT/$MODEL_NAME $MODEL_NAME_URL\n",
    "cd $BUILD_ROOT && tar -czvf model.tar.gz .\n",
    "aws s3 cp $BUILD_ROOT/model.tar.gz  $S3_PATH"
   ]
  },
  {
   "cell_type": "code",
   "execution_count": 10,
   "id": "2a81a7b7-c985-498e-85be-1630a7926034",
   "metadata": {
    "tags": []
   },
   "outputs": [
    {
     "name": "stdout",
     "output_type": "stream",
     "text": [
      "  % Total    % Received % Xferd  Average Speed   Time    Time     Time  Current\n",
      "                                 Dload  Upload   Total   Spent    Left  Speed\n",
      "100  243M  100  243M    0     0  45.9M      0  0:00:05  0:00:05 --:--:-- 46.8M\n",
      "./\n",
      "./RN50.pt\n",
      "tar: .: file changed as we read it\n",
      "upload: ./model.tar.gz to s3://sagemaker-us-east-2-816546967292/models/clip/model.tar.gz\n"
     ]
    }
   ],
   "source": [
    "!bash build_model_tar.sh {s3_bucket_name}"
   ]
  },
  {
   "cell_type": "code",
   "execution_count": 11,
   "id": "16019096-1b71-499d-83fc-de3306d7515e",
   "metadata": {
    "tags": []
   },
   "outputs": [
    {
     "name": "stdout",
     "output_type": "stream",
     "text": [
      "2023-11-16 15:50:01  202159837 model.tar.gz\n"
     ]
    }
   ],
   "source": [
    "!aws s3 ls s3://{s3_bucket_name}/models/clip/model.tar.gz"
   ]
  },
  {
   "cell_type": "code",
   "execution_count": 16,
   "id": "bdcbffa5-54dd-4b04-a178-81e02f97dd91",
   "metadata": {
    "tags": []
   },
   "outputs": [],
   "source": [
    "!mkdir -p code"
   ]
  },
  {
   "cell_type": "code",
   "execution_count": 17,
   "id": "841b5ac5-2b58-49e6-8e60-6e35ee318aa1",
   "metadata": {
    "tags": []
   },
   "outputs": [
    {
     "name": "stdout",
     "output_type": "stream",
     "text": [
      "Overwriting code/clip_inference.py\n"
     ]
    }
   ],
   "source": [
    "%%writefile code/clip_inference.py\n",
    "\n",
    "import io\n",
    "import torch\n",
    "import clip\n",
    "from PIL import Image\n",
    "import json\n",
    "import logging\n",
    "import sys\n",
    "import os\n",
    "\n",
    "import torch\n",
    "import torch.nn as nn\n",
    "import torch.nn.functional as F\n",
    "from torchvision.transforms import ToTensor\n",
    "\n",
    "logger = logging.getLogger(__name__)\n",
    "logger.setLevel(logging.DEBUG)\n",
    "logger.addHandler(logging.StreamHandler(sys.stdout))\n",
    "\n",
    "MODEL_NAME = os.environ.get(\"MODEL_NAME\", \"RN50.pt\")\n",
    "# ENCODE_TYPE could be IMAGE or TEXT\n",
    "ENCODE_TYPE = os.environ.get(\"ENCODE_TYPE\", \"TEXT\")\n",
    "\n",
    "device = torch.device(\"cuda\" if torch.cuda.is_available() else \"cpu\")\n",
    "\n",
    "\n",
    "# defining model and loading weights to it.\n",
    "def model_fn(model_dir):\n",
    "    model, preprocess = clip.load(os.path.join(model_dir, MODEL_NAME), device=device)\n",
    "    return {\"model_obj\": model, \"preprocess_fn\": preprocess}\n",
    "\n",
    "\n",
    "def load_from_bytearray(request_body):\n",
    "    \n",
    "    return image\n",
    "\n",
    "# data loading\n",
    "def input_fn(request_body, request_content_type):\n",
    "    assert request_content_type in (\n",
    "        \"application/json\",\n",
    "        \"application/x-image\",\n",
    "    ), f\"{request_content_type} is an unknown type.\"\n",
    "    if request_content_type == \"application/json\":\n",
    "        data = json.loads(request_body)[\"inputs\"]\n",
    "    elif request_content_type == \"application/x-image\":\n",
    "        image_as_bytes = io.BytesIO(request_body)\n",
    "        data = Image.open(image_as_bytes)\n",
    "    return data\n",
    "\n",
    "\n",
    "# inference\n",
    "def predict_fn(input_object, model):\n",
    "    model_obj = model[\"model_obj\"]\n",
    "    # for image preprocessing\n",
    "    preprocess_fn = model[\"preprocess_fn\"]\n",
    "    assert ENCODE_TYPE in (\"TEXT\", \"IMAGE\"), f\"{ENCODE_TYPE} is an unknown encode type.\"\n",
    "\n",
    "    # preprocessing\n",
    "    if ENCODE_TYPE == \"TEXT\":\n",
    "        input_ = clip.tokenize(input_object).to(device)\n",
    "    elif ENCODE_TYPE == \"IMAGE\":\n",
    "        input_ = preprocess_fn(input_object).unsqueeze(0).to(device)\n",
    "\n",
    "    # inference\n",
    "    with torch.no_grad():\n",
    "        if ENCODE_TYPE == \"TEXT\":\n",
    "            prediction = model_obj.encode_text(input_)\n",
    "        elif ENCODE_TYPE == \"IMAGE\":\n",
    "            prediction = model_obj.encode_image(input_)\n",
    "    return prediction\n",
    "\n",
    "\n",
    "# Serialize the prediction result into the desired response content type\n",
    "def output_fn(predictions, content_type):\n",
    "    assert content_type == \"application/json\"\n",
    "    res = predictions.cpu().numpy().tolist()\n",
    "    return json.dumps(res)"
   ]
  },
  {
   "cell_type": "code",
   "execution_count": 18,
   "id": "f23b392b-a9d9-43c9-9ba1-54af2e068199",
   "metadata": {
    "tags": []
   },
   "outputs": [
    {
     "name": "stdout",
     "output_type": "stream",
     "text": [
      "Overwriting code/requirements.txt\n"
     ]
    }
   ],
   "source": [
    "%%writefile code/requirements.txt\n",
    "ftfy\n",
    "regex\n",
    "tqdm\n",
    "git+https://github.com/openai/CLIP.git"
   ]
  },
  {
   "cell_type": "code",
   "execution_count": 19,
   "id": "b43f239d-e855-44a7-aba5-dc1bc52c6e9a",
   "metadata": {
    "tags": []
   },
   "outputs": [
    {
     "name": "stdout",
     "output_type": "stream",
     "text": [
      "sagemaker.config INFO - Not applying SDK defaults from location: /etc/xdg/sagemaker/config.yaml\n",
      "sagemaker.config INFO - Not applying SDK defaults from location: /root/.config/sagemaker/config.yaml\n",
      "sagemaker.config INFO - Not applying SDK defaults from location: /etc/xdg/sagemaker/config.yaml\n",
      "sagemaker.config INFO - Not applying SDK defaults from location: /root/.config/sagemaker/config.yaml\n",
      "sagemaker.config INFO - Not applying SDK defaults from location: /etc/xdg/sagemaker/config.yaml\n",
      "sagemaker.config INFO - Not applying SDK defaults from location: /root/.config/sagemaker/config.yaml\n"
     ]
    }
   ],
   "source": [
    "from sagemaker.pytorch import PyTorchModel\n",
    "from sagemaker import get_execution_role, Session\n",
    "\n",
    "\n",
    "role = get_execution_role()\n",
    "shared_params = dict(\n",
    "    entry_point=\"clip_inference.py\",\n",
    "    source_dir=\"code\",\n",
    "    role=role,\n",
    "    model_data=f\"s3://{s3_bucket_name}/models/clip/model.tar.gz\",\n",
    "    framework_version=\"1.9.0\",\n",
    "    py_version=\"py38\",\n",
    ")\n",
    "\n",
    "clip_image_model = PyTorchModel(\n",
    "    env={'MODEL_NAME': 'RN50.pt', \"ENCODE_TYPE\": \"IMAGE\"},\n",
    "    name=\"clip-image-model\",\n",
    "    **shared_params\n",
    ")\n",
    "\n",
    "clip_text_model = PyTorchModel(\n",
    "    env={'MODEL_NAME': 'RN50.pt', \"ENCODE_TYPE\": \"TEXT\"},\n",
    "    name=\"clip-text-model\",\n",
    "    **shared_params\n",
    ")"
   ]
  },
  {
   "cell_type": "code",
   "execution_count": null,
   "id": "594e167c-42db-4f83-998a-af60025370d3",
   "metadata": {
    "tags": []
   },
   "outputs": [],
   "source": [
    "from multiprocessing.pool import ThreadPool\n",
    "import boto3\n",
    "import tqdm.notebook as tq\n",
    "from urllib.parse import urlparse\n",
    "import logging\n",
    "from botocore.exceptions import ClientError\n",
    "\n",
    "# Configure logging\n",
    "logging.basicConfig(level=logging.ERROR)\n",
    "logger = logging.getLogger(__name__)\n",
    "\n",
    "s3_sample_image_root = f\"s3://{s3_bucket_name}/sample-images\"\n",
    "\n",
    "client = boto3.client('s3')\n",
    "\n",
    "def upload_(args):\n",
    "    try:\n",
    "        client.copy_object(CopySource=args[\"source\"], Bucket=args[\"target_bucket\"], Key=args[\"target_key\"])\n",
    "    except ClientError as e:\n",
    "        logger.error(\"Error copying object: %s\", e.response['Error']['Message'])\n",
    "        return False\n",
    "    return True\n",
    "\n",
    "arguments = []\n",
    "for idx, record in dataset.head(50).iterrows():\n",
    "    argument = {}\n",
    "    argument[\"source\"] = (s3_data_root + record.path)[5:]\n",
    "    argument[\"target_bucket\"] = urlparse(s3_sample_image_root).netloc\n",
    "    argument[\"target_key\"] = urlparse(s3_sample_image_root).path[1:] + '/' + record.path\n",
    "    arguments.append(argument)\n",
    "\n",
    "with ThreadPool(4) as p:\n",
    "    results = list(tq.tqdm(p.imap(upload_, arguments), total=len(dataset.head(50))))\n",
    "# Check for failed uploads\n",
    "failed_uploads = [res for res in results if not res]\n",
    "if failed_uploads:\n",
    "    logger.error(\"Some uploads failed.\")    "
   ]
  },
  {
   "cell_type": "code",
   "execution_count": 22,
   "id": "dc60f099-b172-4e43-b8b5-efd549710fd4",
   "metadata": {},
   "outputs": [
    {
     "name": "stdout",
     "output_type": "stream",
     "text": [
      "1649\n"
     ]
    }
   ],
   "source": [
    "print(len(dataset))"
   ]
  },
  {
   "cell_type": "code",
   "execution_count": 23,
   "id": "c83d6d00-10f7-4bca-9f3a-bcbb946c67ed",
   "metadata": {
    "tags": []
   },
   "outputs": [],
   "source": [
    "import logging\n",
    "\n",
    "# Set the logging level to ERROR to only print error logs\n",
    "logging.basicConfig(level=logging.ERROR)\n",
    "\n",
    "# If you have already configured logging before in the same notebook,\n",
    "# you might need to update the level like this:\n",
    "logger = logging.getLogger()\n",
    "logger.setLevel(logging.ERROR)"
   ]
  },
  {
   "cell_type": "code",
   "execution_count": null,
   "id": "a417d0b8-2c93-4e32-9318-7cf67ebbc599",
   "metadata": {
    "tags": []
   },
   "outputs": [],
   "source": [
    "batch_input = s3_sample_image_root + \"/\"\n",
    "output_path = f\"s3://{s3_bucket_name}/inference/clip-search/output/\"\n",
    "\n",
    "clip_image_transformer = clip_image_model.transformer(\n",
    "    instance_count=1,\n",
    "    instance_type=\"ml.c5.xlarge\",\n",
    "    strategy=\"SingleRecord\",\n",
    "    assemble_with=\"Line\",\n",
    "    output_path=output_path,\n",
    ")\n",
    "\n",
    "clip_image_transformer.transform(\n",
    "    batch_input, \n",
    "    data_type=\"S3Prefix\",\n",
    "    content_type=\"application/x-image\", \n",
    "    wait=True,\n",
    "    logs=False\n",
    ")"
   ]
  },
  {
   "cell_type": "code",
   "execution_count": null,
   "id": "f157d555-1ec8-427f-aadd-cc0f8545ab78",
   "metadata": {
    "tags": []
   },
   "outputs": [],
   "source": [
    "from sagemaker.s3 import S3Downloader\n",
    "import json\n",
    "\n",
    "embedding_root_path = \"./data/embedding\"\n",
    "s3down.download(output_path, embedding_root_path)\n",
    "\n",
    "embeddings = []\n",
    "for idx, record in dataset.head(50).iterrows():\n",
    "    embedding_file = f\"{embedding_root_path}/{record.path}.out\"\n",
    "    embeddings.append(json.load(open(embedding_file))[0])"
   ]
  },
  {
   "cell_type": "code",
   "execution_count": null,
   "id": "b30058c4-7742-41b7-bf84-93a2bf16c1b0",
   "metadata": {
    "tags": []
   },
   "outputs": [],
   "source": [
    "print(len(embeddings))"
   ]
  },
  {
   "cell_type": "code",
   "execution_count": 38,
   "id": "1084a2ae-1b5e-4275-a5d2-23db431555cf",
   "metadata": {
    "tags": []
   },
   "outputs": [
    {
     "name": "stdout",
     "output_type": "stream",
     "text": [
      "      item_id                                 item_name_in_en_us  \\\n",
      "0  B0896LJNLH  AmazonBasics Serene 16-Piece Old Fashioned and...   \n",
      "\n",
      "  main_image_id     image_id  height  width             path  \n",
      "0   61izEZdhlaL  61izEZdhlaL    1197    894  07/075e5d67.jpg  \n"
     ]
    }
   ],
   "source": [
    "print(dataset.head(1))"
   ]
  },
  {
   "cell_type": "code",
   "execution_count": 41,
   "id": "15140983-063c-4bc6-bcc5-33ac615133b9",
   "metadata": {
    "tags": []
   },
   "outputs": [
    {
     "name": "stdout",
     "output_type": "stream",
     "text": [
      "Collecting pymongo\n",
      "  Downloading pymongo-4.6.0-cp310-cp310-manylinux_2_17_x86_64.manylinux2014_x86_64.whl.metadata (22 kB)\n",
      "Collecting dnspython<3.0.0,>=1.16.0 (from pymongo)\n",
      "  Downloading dnspython-2.4.2-py3-none-any.whl.metadata (4.9 kB)\n",
      "Downloading pymongo-4.6.0-cp310-cp310-manylinux_2_17_x86_64.manylinux2014_x86_64.whl (677 kB)\n",
      "\u001b[2K   \u001b[90m━━━━━━━━━━━━━━━━━━━━━━━━━━━━━━━━━━━━━━━━\u001b[0m \u001b[32m677.1/677.1 kB\u001b[0m \u001b[31m4.9 MB/s\u001b[0m eta \u001b[36m0:00:00\u001b[0m:00:01\u001b[0m\n",
      "\u001b[?25hDownloading dnspython-2.4.2-py3-none-any.whl (300 kB)\n",
      "\u001b[2K   \u001b[90m━━━━━━━━━━━━━━━━━━━━━━━━━━━━━━━━━━━━━━━━\u001b[0m \u001b[32m300.4/300.4 kB\u001b[0m \u001b[31m3.0 MB/s\u001b[0m eta \u001b[36m0:00:00\u001b[0m:00:01\u001b[0m\n",
      "\u001b[?25hInstalling collected packages: dnspython, pymongo\n",
      "Successfully installed dnspython-2.4.2 pymongo-4.6.0\n",
      "\u001b[33mWARNING: Running pip as the 'root' user can result in broken permissions and conflicting behaviour with the system package manager. It is recommended to use a virtual environment instead: https://pip.pypa.io/warnings/venv\u001b[0m\u001b[33m\n",
      "\u001b[0m"
     ]
    }
   ],
   "source": [
    "!pip install pymongo\n"
   ]
  },
  {
   "cell_type": "code",
   "execution_count": null,
   "id": "b0cb01b4-38f6-403f-b648-44353d8bab01",
   "metadata": {
    "tags": []
   },
   "outputs": [],
   "source": [
    "import pymongo\n",
    "from pymongo import MongoClient\n",
    "\n",
    "# Replace the following with your MongoDB connection details\n",
    "mongo_uri = \"url\"\n",
    "db_name = \"vectorsearch\"\n",
    "image_metadata_collection_name = \"image_metadata\"\n",
    "embeddings_collection_name = \"embeddings\"\n",
    "\n",
    "# Connect to your MongoDB\n",
    "client = MongoClient(mongo_uri)\n",
    "db = client[db_name]\n",
    "image_metadata_collection = db[image_metadata_collection_name]\n",
    "embeddings_collection = db[embeddings_collection_name]\n",
    "\n",
    "# Iterate over the dataset and embeddings\n",
    "for idx, row in dataset.iterrows():\n",
    "    # Construct the image metadata document\n",
    "    image_metadata_document = {\n",
    "        \"item_id\": row[\"item_id\"],\n",
    "        \"item_name_in_en_us\": row[\"item_name_in_en_us\"],\n",
    "        \"main_image_id\": row[\"main_image_id\"],\n",
    "        \"image_id\": row[\"image_id\"],\n",
    "        \"height\": row[\"height\"],\n",
    "        \"width\": row[\"width\"],\n",
    "        \"path\": row[\"path\"]\n",
    "    }\n",
    "    \n",
    "    # Construct the embeddings document\n",
    "    embeddings_document = {\n",
    "        \"item_id\": row[\"item_id\"],\n",
    "        # Assuming embeddings is a list or array-like structure and has the same order as the dataset\n",
    "        \"embedding\": embeddings[idx]  # Convert numpy array to list if necessary\n",
    "    }\n",
    "    \n",
    "    # Insert the documents into MongoDB\n",
    "    try:\n",
    "        image_metadata_collection.insert_one(image_metadata_document)\n",
    "        embeddings_collection.insert_one(embeddings_document)\n",
    "        print(f\"Inserted documents for item_id {row['item_id']}\")\n",
    "    except pymongo.errors.PyMongoError as e:\n",
    "        print(f\"Error inserting documents for item_id {row['item_id']}: {e}\")\n",
    "\n",
    "# Close the connection to MongoDB\n",
    "client.close()\n"
   ]
  },
  {
   "cell_type": "code",
   "execution_count": null,
   "id": "896e171a-897d-4829-b6eb-efba9065a4ee",
   "metadata": {
    "tags": []
   },
   "outputs": [],
   "source": [
    "text_predictor = clip_text_model.deploy(\n",
    "    instance_type='ml.c5.xlarge',\n",
    "    initial_instance_count=1,\n",
    "    serverless_inference_config=ServerlessInferenceConfig(memory_size_in_mb=6144),\n",
    "    serializer=JSONSerializer(),\n",
    "    deserializer=JSONDeserializer(),\n",
    "    wait=True\n",
    ")\n",
    "\n",
    "image_predictor = clip_image_model.deploy(\n",
    "    instance_type='ml.c5.xlarge',\n",
    "    initial_instance_count=1,\n",
    "    serverless_inference_config=ServerlessInferenceConfig(memory_size_in_mb=6144),\n",
    "    serializer=IdentitySerializer(content_type=\"application/x-image\"),\n",
    "    deserializer=JSONDeserializer(),\n",
    "    wait=True\n",
    ")\n",
    "\n",
    "def encode_image(file_name=\"./data/images/0e9420c6.jpg\"):    \n",
    "    with open(file_name, \"rb\") as f:\n",
    "        payload = f.read()\n",
    "        payload = bytearray(payload)\n",
    "    res = image_predictor.predict(payload)\n",
    "    return res[0]\n",
    "\n",
    "def encode_name(item_name):\n",
    "    res = text_predictor.predict({\"inputs\": [f\"this is a {item_name}\"]})\n",
    "    return res[0]"
   ]
  },
  {
   "cell_type": "code",
   "execution_count": 67,
   "id": "cc0d5b87-43bd-4be6-a481-10f7c1e6393d",
   "metadata": {
    "tags": []
   },
   "outputs": [
    {
     "name": "stdout",
     "output_type": "stream",
     "text": [
      "sagemaker.config INFO - Not applying SDK defaults from location: /etc/xdg/sagemaker/config.yaml\n",
      "sagemaker.config INFO - Not applying SDK defaults from location: /root/.config/sagemaker/config.yaml\n",
      "./data/images/075e5d67.jpg\n"
     ]
    }
   ],
   "source": [
    "item_image_path, item_name = get_image_from_item_id(item_id = \"B0896LJNLH\", return_image=False)\n",
    "print(item_image_path)\n",
    "feature_vector = encode_image(file_name=item_image_path)\n",
    "\n",
    "#print(feature_vector)\n",
    "#Image.open(item_image_path)"
   ]
  },
  {
   "cell_type": "code",
   "execution_count": 69,
   "id": "07eae255-fdf9-43e0-bb1a-90d7c68677d2",
   "metadata": {
    "tags": []
   },
   "outputs": [
    {
     "name": "stdout",
     "output_type": "stream",
     "text": [
      "Search result item_id: B0896LJNLH\n",
      "Image Metadata for item_id B0896LJNLH: {'_id': ObjectId('654a8cba19b59a6ae225a806'), 'item_id': 'B0896LJNLH', 'item_name_in_en_us': 'AmazonBasics Serene 16-Piece Old Fashioned and Coolers Glass Drinkware Set', 'main_image_id': '61izEZdhlaL', 'image_id': '61izEZdhlaL', 'height': 1197, 'width': 894, 'path': '07/075e5d67.jpg'}\n",
      "Search result item_id: B0896KVCJY\n",
      "Image Metadata for item_id B0896KVCJY: {'_id': ObjectId('654a8cbf19b59a6ae225a810'), 'item_id': 'B0896KVCJY', 'item_name_in_en_us': 'AmazonBasics Eastlake Coolers Glass Drinkware Set, 15-Ounce, Set of 6', 'main_image_id': '610jXVKNJpL', 'image_id': '610jXVKNJpL', 'height': 1630, 'width': 863, 'path': 'ea/ea0c6da6.jpg'}\n",
      "Search result item_id: B07DBFT2YG\n",
      "Image Metadata for item_id B07DBFT2YG: {'_id': ObjectId('654a8cd319b59a6ae225a85e'), 'item_id': 'B07DBFT2YG', 'item_name_in_en_us': 'Amazon Brand – Ravenna Home Angela Modern Turned Leg Wood Shelf Storage Coffee Table, 44\"W, Grey', 'main_image_id': '61LgxujFuOL', 'image_id': '61LgxujFuOL', 'height': 1803, 'width': 2560, 'path': 'e0/e0f6cb9c.jpg'}\n",
      "Search result item_id: B07N6V9Z41\n",
      "Image Metadata for item_id B07N6V9Z41: {'_id': ObjectId('654a8cc119b59a6ae225a818'), 'item_id': 'B07N6V9Z41', 'item_name_in_en_us': 'AmazonBasics Non-Slip Bathroom Bath Rug Mat with Textured Waves', 'main_image_id': '810iH82SMKL', 'image_id': '810iH82SMKL', 'height': 2560, 'width': 2560, 'path': 'f0/f0f82cfb.jpg'}\n"
     ]
    }
   ],
   "source": [
    "\n",
    "results = embeddings_collection.aggregate([\n",
    "  {\"$vectorSearch\": {\n",
    "    \"queryVector\": feature_vector,\n",
    "    \"path\": \"embedding\",\n",
    "    \"numCandidates\": 100,\n",
    "    \"limit\": 4,\n",
    "    \"index\": \"imagesearch\",\n",
    "      }}\n",
    "]);\n",
    "\n",
    "# Iterate over the results from the vector search\n",
    "for document in results:\n",
    "    item_id = document[\"item_id\"]\n",
    "    print(f'Search result item_id: {item_id}')\n",
    "    \n",
    "    # Retrieve the corresponding document from the image_metadata collection\n",
    "    metadata_document = image_metadata_collection.find_one({\"item_id\": item_id})\n",
    "    \n",
    "    if metadata_document:\n",
    "        # Print the details from the image_metadata collection\n",
    "        print(f'Image Metadata for item_id {item_id}: {metadata_document}')\n",
    "    else:\n",
    "        print(f'No metadata found for item_id {item_id}')"
   ]
  },
  {
   "cell_type": "code",
   "execution_count": null,
   "id": "98b869e4-2bee-4f80-a895-59804e537959",
   "metadata": {},
   "outputs": [],
   "source": []
  }
 ],
 "metadata": {
  "availableInstances": [
   {
    "_defaultOrder": 0,
    "_isFastLaunch": true,
    "category": "General purpose",
    "gpuNum": 0,
    "hideHardwareSpecs": false,
    "memoryGiB": 4,
    "name": "ml.t3.medium",
    "vcpuNum": 2
   },
   {
    "_defaultOrder": 1,
    "_isFastLaunch": false,
    "category": "General purpose",
    "gpuNum": 0,
    "hideHardwareSpecs": false,
    "memoryGiB": 8,
    "name": "ml.t3.large",
    "vcpuNum": 2
   },
   {
    "_defaultOrder": 2,
    "_isFastLaunch": false,
    "category": "General purpose",
    "gpuNum": 0,
    "hideHardwareSpecs": false,
    "memoryGiB": 16,
    "name": "ml.t3.xlarge",
    "vcpuNum": 4
   },
   {
    "_defaultOrder": 3,
    "_isFastLaunch": false,
    "category": "General purpose",
    "gpuNum": 0,
    "hideHardwareSpecs": false,
    "memoryGiB": 32,
    "name": "ml.t3.2xlarge",
    "vcpuNum": 8
   },
   {
    "_defaultOrder": 4,
    "_isFastLaunch": true,
    "category": "General purpose",
    "gpuNum": 0,
    "hideHardwareSpecs": false,
    "memoryGiB": 8,
    "name": "ml.m5.large",
    "vcpuNum": 2
   },
   {
    "_defaultOrder": 5,
    "_isFastLaunch": false,
    "category": "General purpose",
    "gpuNum": 0,
    "hideHardwareSpecs": false,
    "memoryGiB": 16,
    "name": "ml.m5.xlarge",
    "vcpuNum": 4
   },
   {
    "_defaultOrder": 6,
    "_isFastLaunch": false,
    "category": "General purpose",
    "gpuNum": 0,
    "hideHardwareSpecs": false,
    "memoryGiB": 32,
    "name": "ml.m5.2xlarge",
    "vcpuNum": 8
   },
   {
    "_defaultOrder": 7,
    "_isFastLaunch": false,
    "category": "General purpose",
    "gpuNum": 0,
    "hideHardwareSpecs": false,
    "memoryGiB": 64,
    "name": "ml.m5.4xlarge",
    "vcpuNum": 16
   },
   {
    "_defaultOrder": 8,
    "_isFastLaunch": false,
    "category": "General purpose",
    "gpuNum": 0,
    "hideHardwareSpecs": false,
    "memoryGiB": 128,
    "name": "ml.m5.8xlarge",
    "vcpuNum": 32
   },
   {
    "_defaultOrder": 9,
    "_isFastLaunch": false,
    "category": "General purpose",
    "gpuNum": 0,
    "hideHardwareSpecs": false,
    "memoryGiB": 192,
    "name": "ml.m5.12xlarge",
    "vcpuNum": 48
   },
   {
    "_defaultOrder": 10,
    "_isFastLaunch": false,
    "category": "General purpose",
    "gpuNum": 0,
    "hideHardwareSpecs": false,
    "memoryGiB": 256,
    "name": "ml.m5.16xlarge",
    "vcpuNum": 64
   },
   {
    "_defaultOrder": 11,
    "_isFastLaunch": false,
    "category": "General purpose",
    "gpuNum": 0,
    "hideHardwareSpecs": false,
    "memoryGiB": 384,
    "name": "ml.m5.24xlarge",
    "vcpuNum": 96
   },
   {
    "_defaultOrder": 12,
    "_isFastLaunch": false,
    "category": "General purpose",
    "gpuNum": 0,
    "hideHardwareSpecs": false,
    "memoryGiB": 8,
    "name": "ml.m5d.large",
    "vcpuNum": 2
   },
   {
    "_defaultOrder": 13,
    "_isFastLaunch": false,
    "category": "General purpose",
    "gpuNum": 0,
    "hideHardwareSpecs": false,
    "memoryGiB": 16,
    "name": "ml.m5d.xlarge",
    "vcpuNum": 4
   },
   {
    "_defaultOrder": 14,
    "_isFastLaunch": false,
    "category": "General purpose",
    "gpuNum": 0,
    "hideHardwareSpecs": false,
    "memoryGiB": 32,
    "name": "ml.m5d.2xlarge",
    "vcpuNum": 8
   },
   {
    "_defaultOrder": 15,
    "_isFastLaunch": false,
    "category": "General purpose",
    "gpuNum": 0,
    "hideHardwareSpecs": false,
    "memoryGiB": 64,
    "name": "ml.m5d.4xlarge",
    "vcpuNum": 16
   },
   {
    "_defaultOrder": 16,
    "_isFastLaunch": false,
    "category": "General purpose",
    "gpuNum": 0,
    "hideHardwareSpecs": false,
    "memoryGiB": 128,
    "name": "ml.m5d.8xlarge",
    "vcpuNum": 32
   },
   {
    "_defaultOrder": 17,
    "_isFastLaunch": false,
    "category": "General purpose",
    "gpuNum": 0,
    "hideHardwareSpecs": false,
    "memoryGiB": 192,
    "name": "ml.m5d.12xlarge",
    "vcpuNum": 48
   },
   {
    "_defaultOrder": 18,
    "_isFastLaunch": false,
    "category": "General purpose",
    "gpuNum": 0,
    "hideHardwareSpecs": false,
    "memoryGiB": 256,
    "name": "ml.m5d.16xlarge",
    "vcpuNum": 64
   },
   {
    "_defaultOrder": 19,
    "_isFastLaunch": false,
    "category": "General purpose",
    "gpuNum": 0,
    "hideHardwareSpecs": false,
    "memoryGiB": 384,
    "name": "ml.m5d.24xlarge",
    "vcpuNum": 96
   },
   {
    "_defaultOrder": 20,
    "_isFastLaunch": false,
    "category": "General purpose",
    "gpuNum": 0,
    "hideHardwareSpecs": true,
    "memoryGiB": 0,
    "name": "ml.geospatial.interactive",
    "supportedImageNames": [
     "sagemaker-geospatial-v1-0"
    ],
    "vcpuNum": 0
   },
   {
    "_defaultOrder": 21,
    "_isFastLaunch": true,
    "category": "Compute optimized",
    "gpuNum": 0,
    "hideHardwareSpecs": false,
    "memoryGiB": 4,
    "name": "ml.c5.large",
    "vcpuNum": 2
   },
   {
    "_defaultOrder": 22,
    "_isFastLaunch": false,
    "category": "Compute optimized",
    "gpuNum": 0,
    "hideHardwareSpecs": false,
    "memoryGiB": 8,
    "name": "ml.c5.xlarge",
    "vcpuNum": 4
   },
   {
    "_defaultOrder": 23,
    "_isFastLaunch": false,
    "category": "Compute optimized",
    "gpuNum": 0,
    "hideHardwareSpecs": false,
    "memoryGiB": 16,
    "name": "ml.c5.2xlarge",
    "vcpuNum": 8
   },
   {
    "_defaultOrder": 24,
    "_isFastLaunch": false,
    "category": "Compute optimized",
    "gpuNum": 0,
    "hideHardwareSpecs": false,
    "memoryGiB": 32,
    "name": "ml.c5.4xlarge",
    "vcpuNum": 16
   },
   {
    "_defaultOrder": 25,
    "_isFastLaunch": false,
    "category": "Compute optimized",
    "gpuNum": 0,
    "hideHardwareSpecs": false,
    "memoryGiB": 72,
    "name": "ml.c5.9xlarge",
    "vcpuNum": 36
   },
   {
    "_defaultOrder": 26,
    "_isFastLaunch": false,
    "category": "Compute optimized",
    "gpuNum": 0,
    "hideHardwareSpecs": false,
    "memoryGiB": 96,
    "name": "ml.c5.12xlarge",
    "vcpuNum": 48
   },
   {
    "_defaultOrder": 27,
    "_isFastLaunch": false,
    "category": "Compute optimized",
    "gpuNum": 0,
    "hideHardwareSpecs": false,
    "memoryGiB": 144,
    "name": "ml.c5.18xlarge",
    "vcpuNum": 72
   },
   {
    "_defaultOrder": 28,
    "_isFastLaunch": false,
    "category": "Compute optimized",
    "gpuNum": 0,
    "hideHardwareSpecs": false,
    "memoryGiB": 192,
    "name": "ml.c5.24xlarge",
    "vcpuNum": 96
   },
   {
    "_defaultOrder": 29,
    "_isFastLaunch": true,
    "category": "Accelerated computing",
    "gpuNum": 1,
    "hideHardwareSpecs": false,
    "memoryGiB": 16,
    "name": "ml.g4dn.xlarge",
    "vcpuNum": 4
   },
   {
    "_defaultOrder": 30,
    "_isFastLaunch": false,
    "category": "Accelerated computing",
    "gpuNum": 1,
    "hideHardwareSpecs": false,
    "memoryGiB": 32,
    "name": "ml.g4dn.2xlarge",
    "vcpuNum": 8
   },
   {
    "_defaultOrder": 31,
    "_isFastLaunch": false,
    "category": "Accelerated computing",
    "gpuNum": 1,
    "hideHardwareSpecs": false,
    "memoryGiB": 64,
    "name": "ml.g4dn.4xlarge",
    "vcpuNum": 16
   },
   {
    "_defaultOrder": 32,
    "_isFastLaunch": false,
    "category": "Accelerated computing",
    "gpuNum": 1,
    "hideHardwareSpecs": false,
    "memoryGiB": 128,
    "name": "ml.g4dn.8xlarge",
    "vcpuNum": 32
   },
   {
    "_defaultOrder": 33,
    "_isFastLaunch": false,
    "category": "Accelerated computing",
    "gpuNum": 4,
    "hideHardwareSpecs": false,
    "memoryGiB": 192,
    "name": "ml.g4dn.12xlarge",
    "vcpuNum": 48
   },
   {
    "_defaultOrder": 34,
    "_isFastLaunch": false,
    "category": "Accelerated computing",
    "gpuNum": 1,
    "hideHardwareSpecs": false,
    "memoryGiB": 256,
    "name": "ml.g4dn.16xlarge",
    "vcpuNum": 64
   },
   {
    "_defaultOrder": 35,
    "_isFastLaunch": false,
    "category": "Accelerated computing",
    "gpuNum": 1,
    "hideHardwareSpecs": false,
    "memoryGiB": 61,
    "name": "ml.p3.2xlarge",
    "vcpuNum": 8
   },
   {
    "_defaultOrder": 36,
    "_isFastLaunch": false,
    "category": "Accelerated computing",
    "gpuNum": 4,
    "hideHardwareSpecs": false,
    "memoryGiB": 244,
    "name": "ml.p3.8xlarge",
    "vcpuNum": 32
   },
   {
    "_defaultOrder": 37,
    "_isFastLaunch": false,
    "category": "Accelerated computing",
    "gpuNum": 8,
    "hideHardwareSpecs": false,
    "memoryGiB": 488,
    "name": "ml.p3.16xlarge",
    "vcpuNum": 64
   },
   {
    "_defaultOrder": 38,
    "_isFastLaunch": false,
    "category": "Accelerated computing",
    "gpuNum": 8,
    "hideHardwareSpecs": false,
    "memoryGiB": 768,
    "name": "ml.p3dn.24xlarge",
    "vcpuNum": 96
   },
   {
    "_defaultOrder": 39,
    "_isFastLaunch": false,
    "category": "Memory Optimized",
    "gpuNum": 0,
    "hideHardwareSpecs": false,
    "memoryGiB": 16,
    "name": "ml.r5.large",
    "vcpuNum": 2
   },
   {
    "_defaultOrder": 40,
    "_isFastLaunch": false,
    "category": "Memory Optimized",
    "gpuNum": 0,
    "hideHardwareSpecs": false,
    "memoryGiB": 32,
    "name": "ml.r5.xlarge",
    "vcpuNum": 4
   },
   {
    "_defaultOrder": 41,
    "_isFastLaunch": false,
    "category": "Memory Optimized",
    "gpuNum": 0,
    "hideHardwareSpecs": false,
    "memoryGiB": 64,
    "name": "ml.r5.2xlarge",
    "vcpuNum": 8
   },
   {
    "_defaultOrder": 42,
    "_isFastLaunch": false,
    "category": "Memory Optimized",
    "gpuNum": 0,
    "hideHardwareSpecs": false,
    "memoryGiB": 128,
    "name": "ml.r5.4xlarge",
    "vcpuNum": 16
   },
   {
    "_defaultOrder": 43,
    "_isFastLaunch": false,
    "category": "Memory Optimized",
    "gpuNum": 0,
    "hideHardwareSpecs": false,
    "memoryGiB": 256,
    "name": "ml.r5.8xlarge",
    "vcpuNum": 32
   },
   {
    "_defaultOrder": 44,
    "_isFastLaunch": false,
    "category": "Memory Optimized",
    "gpuNum": 0,
    "hideHardwareSpecs": false,
    "memoryGiB": 384,
    "name": "ml.r5.12xlarge",
    "vcpuNum": 48
   },
   {
    "_defaultOrder": 45,
    "_isFastLaunch": false,
    "category": "Memory Optimized",
    "gpuNum": 0,
    "hideHardwareSpecs": false,
    "memoryGiB": 512,
    "name": "ml.r5.16xlarge",
    "vcpuNum": 64
   },
   {
    "_defaultOrder": 46,
    "_isFastLaunch": false,
    "category": "Memory Optimized",
    "gpuNum": 0,
    "hideHardwareSpecs": false,
    "memoryGiB": 768,
    "name": "ml.r5.24xlarge",
    "vcpuNum": 96
   },
   {
    "_defaultOrder": 47,
    "_isFastLaunch": false,
    "category": "Accelerated computing",
    "gpuNum": 1,
    "hideHardwareSpecs": false,
    "memoryGiB": 16,
    "name": "ml.g5.xlarge",
    "vcpuNum": 4
   },
   {
    "_defaultOrder": 48,
    "_isFastLaunch": false,
    "category": "Accelerated computing",
    "gpuNum": 1,
    "hideHardwareSpecs": false,
    "memoryGiB": 32,
    "name": "ml.g5.2xlarge",
    "vcpuNum": 8
   },
   {
    "_defaultOrder": 49,
    "_isFastLaunch": false,
    "category": "Accelerated computing",
    "gpuNum": 1,
    "hideHardwareSpecs": false,
    "memoryGiB": 64,
    "name": "ml.g5.4xlarge",
    "vcpuNum": 16
   },
   {
    "_defaultOrder": 50,
    "_isFastLaunch": false,
    "category": "Accelerated computing",
    "gpuNum": 1,
    "hideHardwareSpecs": false,
    "memoryGiB": 128,
    "name": "ml.g5.8xlarge",
    "vcpuNum": 32
   },
   {
    "_defaultOrder": 51,
    "_isFastLaunch": false,
    "category": "Accelerated computing",
    "gpuNum": 1,
    "hideHardwareSpecs": false,
    "memoryGiB": 256,
    "name": "ml.g5.16xlarge",
    "vcpuNum": 64
   },
   {
    "_defaultOrder": 52,
    "_isFastLaunch": false,
    "category": "Accelerated computing",
    "gpuNum": 4,
    "hideHardwareSpecs": false,
    "memoryGiB": 192,
    "name": "ml.g5.12xlarge",
    "vcpuNum": 48
   },
   {
    "_defaultOrder": 53,
    "_isFastLaunch": false,
    "category": "Accelerated computing",
    "gpuNum": 4,
    "hideHardwareSpecs": false,
    "memoryGiB": 384,
    "name": "ml.g5.24xlarge",
    "vcpuNum": 96
   },
   {
    "_defaultOrder": 54,
    "_isFastLaunch": false,
    "category": "Accelerated computing",
    "gpuNum": 8,
    "hideHardwareSpecs": false,
    "memoryGiB": 768,
    "name": "ml.g5.48xlarge",
    "vcpuNum": 192
   },
   {
    "_defaultOrder": 55,
    "_isFastLaunch": false,
    "category": "Accelerated computing",
    "gpuNum": 8,
    "hideHardwareSpecs": false,
    "memoryGiB": 1152,
    "name": "ml.p4d.24xlarge",
    "vcpuNum": 96
   },
   {
    "_defaultOrder": 56,
    "_isFastLaunch": false,
    "category": "Accelerated computing",
    "gpuNum": 8,
    "hideHardwareSpecs": false,
    "memoryGiB": 1152,
    "name": "ml.p4de.24xlarge",
    "vcpuNum": 96
   },
   {
    "_defaultOrder": 57,
    "_isFastLaunch": false,
    "category": "Accelerated computing",
    "gpuNum": 0,
    "hideHardwareSpecs": false,
    "memoryGiB": 32,
    "name": "ml.trn1.2xlarge",
    "vcpuNum": 8
   },
   {
    "_defaultOrder": 58,
    "_isFastLaunch": false,
    "category": "Accelerated computing",
    "gpuNum": 0,
    "hideHardwareSpecs": false,
    "memoryGiB": 512,
    "name": "ml.trn1.32xlarge",
    "vcpuNum": 128
   },
   {
    "_defaultOrder": 59,
    "_isFastLaunch": false,
    "category": "Accelerated computing",
    "gpuNum": 0,
    "hideHardwareSpecs": false,
    "memoryGiB": 512,
    "name": "ml.trn1n.32xlarge",
    "vcpuNum": 128
   }
  ],
  "instance_type": "ml.t3.medium",
  "kernelspec": {
   "display_name": "Python 3 (Data Science 3.0)",
   "language": "python",
   "name": "python3__SAGEMAKER_INTERNAL__arn:aws:sagemaker:us-east-2:429704687514:image/sagemaker-data-science-310-v1"
  },
  "language_info": {
   "codemirror_mode": {
    "name": "ipython",
    "version": 3
   },
   "file_extension": ".py",
   "mimetype": "text/x-python",
   "name": "python",
   "nbconvert_exporter": "python",
   "pygments_lexer": "ipython3",
   "version": "3.10.6"
  }
 },
 "nbformat": 4,
 "nbformat_minor": 5
}
